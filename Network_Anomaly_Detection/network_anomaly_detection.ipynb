{
 "cells": [
  {
   "attachments": {},
   "cell_type": "markdown",
   "metadata": {},
   "source": [
    "### Intrusion Detection ###"
   ]
  },
  {
   "cell_type": "code",
   "execution_count": null,
   "metadata": {},
   "outputs": [],
   "source": [
    "import pandas as pd\n",
    "import numpy as np\n",
    "import matplotlib.pyplot as plt\n",
    "import seaborn as sns\n",
    "import statsmodels.api as sm\n",
    "from sklearn.datasets import fetch_openml\n",
    "from sklearn.model_selection import train_test_split, GridSearchCV\n",
    "from sklearn.preprocessing import StandardScaler, MinMaxScaler\n",
    "from sklearn.linear_model import LinearRegression,LogisticRegression\n",
    "from sklearn.metrics import classification_report, confusion_matrix, roc_auc_score, roc_curve, mean_squared_error\n",
    "from sklearn.decomposition import PCA\n",
    "from sklearn.cluster import KMeans\n",
    "\n",
    "\n"
   ]
  },
  {
   "cell_type": "code",
   "execution_count": 2,
   "metadata": {},
   "outputs": [
    {
     "name": "stderr",
     "output_type": "stream",
     "text": [
      "<>:1: SyntaxWarning: invalid escape sequence '\\W'\n",
      "<>:1: SyntaxWarning: invalid escape sequence '\\W'\n",
      "C:\\Users\\arunk\\AppData\\Local\\Temp\\ipykernel_6360\\3119943531.py:1: SyntaxWarning: invalid escape sequence '\\W'\n",
      "  df_data = pd.read_csv('data\\Wednesday-workingHours-pcap_ISCX.csv')\n"
     ]
    },
    {
     "name": "stdout",
     "output_type": "stream",
     "text": [
      "(692703, 85)\n"
     ]
    },
    {
     "data": {
      "application/vnd.microsoft.datawrangler.viewer.v0+json": {
       "columns": [
        {
         "name": "index",
         "rawType": "int64",
         "type": "integer"
        },
        {
         "name": "Flow ID",
         "rawType": "object",
         "type": "string"
        },
        {
         "name": " Source IP",
         "rawType": "object",
         "type": "string"
        },
        {
         "name": " Source Port",
         "rawType": "int64",
         "type": "integer"
        },
        {
         "name": " Destination IP",
         "rawType": "object",
         "type": "string"
        },
        {
         "name": " Destination Port",
         "rawType": "int64",
         "type": "integer"
        },
        {
         "name": " Protocol",
         "rawType": "int64",
         "type": "integer"
        },
        {
         "name": " Timestamp",
         "rawType": "object",
         "type": "string"
        },
        {
         "name": " Flow Duration",
         "rawType": "int64",
         "type": "integer"
        },
        {
         "name": " Total Fwd Packets",
         "rawType": "int64",
         "type": "integer"
        },
        {
         "name": " Total Backward Packets",
         "rawType": "int64",
         "type": "integer"
        },
        {
         "name": "Total Length of Fwd Packets",
         "rawType": "int64",
         "type": "integer"
        },
        {
         "name": " Total Length of Bwd Packets",
         "rawType": "float64",
         "type": "float"
        },
        {
         "name": " Fwd Packet Length Max",
         "rawType": "int64",
         "type": "integer"
        },
        {
         "name": " Fwd Packet Length Min",
         "rawType": "int64",
         "type": "integer"
        },
        {
         "name": " Fwd Packet Length Mean",
         "rawType": "float64",
         "type": "float"
        },
        {
         "name": " Fwd Packet Length Std",
         "rawType": "float64",
         "type": "float"
        },
        {
         "name": "Bwd Packet Length Max",
         "rawType": "int64",
         "type": "integer"
        },
        {
         "name": " Bwd Packet Length Min",
         "rawType": "int64",
         "type": "integer"
        },
        {
         "name": " Bwd Packet Length Mean",
         "rawType": "float64",
         "type": "float"
        },
        {
         "name": " Bwd Packet Length Std",
         "rawType": "float64",
         "type": "float"
        },
        {
         "name": "Flow Bytes/s",
         "rawType": "float64",
         "type": "float"
        },
        {
         "name": " Flow Packets/s",
         "rawType": "float64",
         "type": "float"
        },
        {
         "name": " Flow IAT Mean",
         "rawType": "float64",
         "type": "float"
        },
        {
         "name": " Flow IAT Std",
         "rawType": "float64",
         "type": "float"
        },
        {
         "name": " Flow IAT Max",
         "rawType": "float64",
         "type": "float"
        },
        {
         "name": " Flow IAT Min",
         "rawType": "float64",
         "type": "float"
        },
        {
         "name": "Fwd IAT Total",
         "rawType": "float64",
         "type": "float"
        },
        {
         "name": " Fwd IAT Mean",
         "rawType": "float64",
         "type": "float"
        },
        {
         "name": " Fwd IAT Std",
         "rawType": "float64",
         "type": "float"
        },
        {
         "name": " Fwd IAT Max",
         "rawType": "float64",
         "type": "float"
        },
        {
         "name": " Fwd IAT Min",
         "rawType": "float64",
         "type": "float"
        },
        {
         "name": "Bwd IAT Total",
         "rawType": "float64",
         "type": "float"
        },
        {
         "name": " Bwd IAT Mean",
         "rawType": "float64",
         "type": "float"
        },
        {
         "name": " Bwd IAT Std",
         "rawType": "float64",
         "type": "float"
        },
        {
         "name": " Bwd IAT Max",
         "rawType": "float64",
         "type": "float"
        },
        {
         "name": " Bwd IAT Min",
         "rawType": "float64",
         "type": "float"
        },
        {
         "name": "Fwd PSH Flags",
         "rawType": "int64",
         "type": "integer"
        },
        {
         "name": " Bwd PSH Flags",
         "rawType": "int64",
         "type": "integer"
        },
        {
         "name": " Fwd URG Flags",
         "rawType": "int64",
         "type": "integer"
        },
        {
         "name": " Bwd URG Flags",
         "rawType": "int64",
         "type": "integer"
        },
        {
         "name": " Fwd Header Length",
         "rawType": "int64",
         "type": "integer"
        },
        {
         "name": " Bwd Header Length",
         "rawType": "int64",
         "type": "integer"
        },
        {
         "name": "Fwd Packets/s",
         "rawType": "float64",
         "type": "float"
        },
        {
         "name": " Bwd Packets/s",
         "rawType": "float64",
         "type": "float"
        },
        {
         "name": " Min Packet Length",
         "rawType": "int64",
         "type": "integer"
        },
        {
         "name": " Max Packet Length",
         "rawType": "int64",
         "type": "integer"
        },
        {
         "name": " Packet Length Mean",
         "rawType": "float64",
         "type": "float"
        },
        {
         "name": " Packet Length Std",
         "rawType": "float64",
         "type": "float"
        },
        {
         "name": " Packet Length Variance",
         "rawType": "float64",
         "type": "float"
        },
        {
         "name": "FIN Flag Count",
         "rawType": "int64",
         "type": "integer"
        },
        {
         "name": " SYN Flag Count",
         "rawType": "int64",
         "type": "integer"
        },
        {
         "name": " RST Flag Count",
         "rawType": "int64",
         "type": "integer"
        },
        {
         "name": " PSH Flag Count",
         "rawType": "int64",
         "type": "integer"
        },
        {
         "name": " ACK Flag Count",
         "rawType": "int64",
         "type": "integer"
        },
        {
         "name": " URG Flag Count",
         "rawType": "int64",
         "type": "integer"
        },
        {
         "name": " CWE Flag Count",
         "rawType": "int64",
         "type": "integer"
        },
        {
         "name": " ECE Flag Count",
         "rawType": "int64",
         "type": "integer"
        },
        {
         "name": " Down/Up Ratio",
         "rawType": "int64",
         "type": "integer"
        },
        {
         "name": " Average Packet Size",
         "rawType": "float64",
         "type": "float"
        },
        {
         "name": " Avg Fwd Segment Size",
         "rawType": "float64",
         "type": "float"
        },
        {
         "name": " Avg Bwd Segment Size",
         "rawType": "float64",
         "type": "float"
        },
        {
         "name": " Fwd Header Length.1",
         "rawType": "int64",
         "type": "integer"
        },
        {
         "name": "Fwd Avg Bytes/Bulk",
         "rawType": "int64",
         "type": "integer"
        },
        {
         "name": " Fwd Avg Packets/Bulk",
         "rawType": "int64",
         "type": "integer"
        },
        {
         "name": " Fwd Avg Bulk Rate",
         "rawType": "int64",
         "type": "integer"
        },
        {
         "name": " Bwd Avg Bytes/Bulk",
         "rawType": "int64",
         "type": "integer"
        },
        {
         "name": " Bwd Avg Packets/Bulk",
         "rawType": "int64",
         "type": "integer"
        },
        {
         "name": "Bwd Avg Bulk Rate",
         "rawType": "int64",
         "type": "integer"
        },
        {
         "name": "Subflow Fwd Packets",
         "rawType": "int64",
         "type": "integer"
        },
        {
         "name": " Subflow Fwd Bytes",
         "rawType": "int64",
         "type": "integer"
        },
        {
         "name": " Subflow Bwd Packets",
         "rawType": "int64",
         "type": "integer"
        },
        {
         "name": " Subflow Bwd Bytes",
         "rawType": "int64",
         "type": "integer"
        },
        {
         "name": "Init_Win_bytes_forward",
         "rawType": "int64",
         "type": "integer"
        },
        {
         "name": " Init_Win_bytes_backward",
         "rawType": "int64",
         "type": "integer"
        },
        {
         "name": " act_data_pkt_fwd",
         "rawType": "int64",
         "type": "integer"
        },
        {
         "name": " min_seg_size_forward",
         "rawType": "int64",
         "type": "integer"
        },
        {
         "name": "Active Mean",
         "rawType": "float64",
         "type": "float"
        },
        {
         "name": " Active Std",
         "rawType": "float64",
         "type": "float"
        },
        {
         "name": " Active Max",
         "rawType": "float64",
         "type": "float"
        },
        {
         "name": " Active Min",
         "rawType": "float64",
         "type": "float"
        },
        {
         "name": "Idle Mean",
         "rawType": "float64",
         "type": "float"
        },
        {
         "name": " Idle Std",
         "rawType": "float64",
         "type": "float"
        },
        {
         "name": " Idle Max",
         "rawType": "float64",
         "type": "float"
        },
        {
         "name": " Idle Min",
         "rawType": "float64",
         "type": "float"
        },
        {
         "name": "Label",
         "rawType": "object",
         "type": "string"
        }
       ],
       "conversionMethod": "pd.DataFrame",
       "ref": "e811115b-f768-4726-a6aa-42f438f6f605",
       "rows": [
        [
         "0",
         "192.168.10.14-209.48.71.168-49459-80-6",
         "192.168.10.14",
         "49459",
         "209.48.71.168",
         "80",
         "6",
         "5/7/2017 8:42",
         "38308",
         "1",
         "1",
         "6",
         "6.0",
         "6",
         "6",
         "6.0",
         "0.0",
         "6",
         "6",
         "6.0",
         "0.0",
         "313.250496",
         "52.208416",
         "38308.0",
         "0.0",
         "38308.0",
         "38308.0",
         "0.0",
         "0.0",
         "0.0",
         "0.0",
         "0.0",
         "0.0",
         "0.0",
         "0.0",
         "0.0",
         "0.0",
         "0",
         "0",
         "0",
         "0",
         "20",
         "20",
         "26.104208",
         "26.104208",
         "6",
         "6",
         "6.0",
         "0.0",
         "0.0",
         "0",
         "0",
         "0",
         "0",
         "1",
         "1",
         "0",
         "0",
         "1",
         "9.0",
         "6.0",
         "6.0",
         "20",
         "0",
         "0",
         "0",
         "0",
         "0",
         "0",
         "1",
         "6",
         "1",
         "6",
         "255",
         "946",
         "0",
         "20",
         "0.0",
         "0.0",
         "0.0",
         "0.0",
         "0.0",
         "0.0",
         "0.0",
         "0.0",
         "BENIGN"
        ],
        [
         "1",
         "192.168.10.3-192.168.10.17-389-49453-6",
         "192.168.10.17",
         "49453",
         "192.168.10.3",
         "389",
         "6",
         "5/7/2017 8:42",
         "479",
         "11",
         "5",
         "172",
         "326.0",
         "79",
         "0",
         "15.63636364",
         "31.4492376",
         "163",
         "0",
         "65.2",
         "89.27877687",
         "1039665.971",
         "33402.92276",
         "31.93333333",
         "25.51040871",
         "73.0",
         "0.0",
         "479.0",
         "47.9",
         "38.9428356",
         "109.0",
         "1.0",
         "401.0",
         "100.25",
         "101.7361784",
         "237.0",
         "3.0",
         "0",
         "0",
         "0",
         "0",
         "368",
         "176",
         "22964.50939",
         "10438.41336",
         "0",
         "163",
         "29.29411765",
         "56.52959922",
         "3195.595588",
         "0",
         "0",
         "0",
         "1",
         "0",
         "0",
         "0",
         "0",
         "0",
         "31.125",
         "15.63636364",
         "65.2",
         "368",
         "0",
         "0",
         "0",
         "0",
         "0",
         "0",
         "11",
         "172",
         "5",
         "326",
         "29200",
         "260",
         "4",
         "32",
         "0.0",
         "0.0",
         "0.0",
         "0.0",
         "0.0",
         "0.0",
         "0.0",
         "0.0",
         "BENIGN"
        ],
        [
         "2",
         "192.168.10.3-192.168.10.17-88-46124-6",
         "192.168.10.17",
         "46124",
         "192.168.10.3",
         "88",
         "6",
         "5/7/2017 8:42",
         "1095",
         "10",
         "6",
         "3150",
         "3150.0",
         "1575",
         "0",
         "315.0",
         "632.5616351",
         "1575",
         "0",
         "525.0",
         "813.3265027",
         "5753424.658",
         "14611.87215",
         "73.0",
         "204.9609719",
         "810.0",
         "1.0",
         "1095.0",
         "121.6666667",
         "298.7461297",
         "915.0",
         "1.0",
         "995.0",
         "199.0",
         "345.5350923",
         "810.0",
         "3.0",
         "0",
         "0",
         "0",
         "0",
         "336",
         "208",
         "9132.420091",
         "5479.452055",
         "0",
         "1575",
         "370.5882353",
         "671.7515406",
         "451250.1324",
         "0",
         "0",
         "0",
         "1",
         "0",
         "0",
         "0",
         "0",
         "0",
         "393.75",
         "315.0",
         "525.0",
         "336",
         "0",
         "0",
         "0",
         "0",
         "0",
         "0",
         "10",
         "3150",
         "6",
         "3150",
         "29200",
         "2081",
         "3",
         "32",
         "0.0",
         "0.0",
         "0.0",
         "0.0",
         "0.0",
         "0.0",
         "0.0",
         "0.0",
         "BENIGN"
        ],
        [
         "3",
         "192.168.10.3-192.168.10.17-389-49454-6",
         "192.168.10.17",
         "49454",
         "192.168.10.3",
         "389",
         "6",
         "5/7/2017 8:42",
         "15206",
         "17",
         "12",
         "3452",
         "6660.0",
         "1313",
         "0",
         "203.0588235",
         "425.7784739",
         "3069",
         "0",
         "555.0",
         "977.4803416",
         "665000.6576",
         "1907.141918",
         "543.0714286",
         "2519.931377",
         "13391.0",
         "0.0",
         "15206.0",
         "950.375",
         "3322.417812",
         "13391.0",
         "2.0",
         "15112.0",
         "1373.818182",
         "4176.449588",
         "13961.0",
         "3.0",
         "0",
         "0",
         "0",
         "0",
         "560",
         "388",
         "1117.979745",
         "789.1621728",
         "0",
         "3069",
         "337.0666667",
         "704.6540816",
         "496537.3747",
         "0",
         "0",
         "0",
         "1",
         "0",
         "0",
         "0",
         "0",
         "0",
         "348.6896552",
         "203.0588235",
         "555.0",
         "560",
         "0",
         "0",
         "0",
         "0",
         "0",
         "0",
         "17",
         "3452",
         "12",
         "6660",
         "29200",
         "0",
         "10",
         "32",
         "0.0",
         "0.0",
         "0.0",
         "0.0",
         "0.0",
         "0.0",
         "0.0",
         "0.0",
         "BENIGN"
        ],
        [
         "4",
         "192.168.10.3-192.168.10.17-88-46126-6",
         "192.168.10.17",
         "46126",
         "192.168.10.3",
         "88",
         "6",
         "5/7/2017 8:42",
         "1092",
         "9",
         "6",
         "3150",
         "3152.0",
         "1575",
         "0",
         "350.0",
         "694.5097192",
         "1576",
         "0",
         "525.3333333",
         "813.8429005",
         "5771062.271",
         "13736.26374",
         "78.0",
         "207.000929",
         "794.0",
         "1.0",
         "1092.0",
         "136.5",
         "313.850738",
         "910.0",
         "1.0",
         "1015.0",
         "203.0",
         "333.2401536",
         "794.0",
         "3.0",
         "0",
         "0",
         "0",
         "0",
         "304",
         "208",
         "8241.758242",
         "5494.505495",
         "0",
         "1576",
         "393.875",
         "704.585067",
         "496440.1167",
         "0",
         "0",
         "0",
         "1",
         "0",
         "0",
         "0",
         "0",
         "0",
         "420.1333333",
         "350.0",
         "525.3333333",
         "304",
         "0",
         "0",
         "0",
         "0",
         "0",
         "0",
         "9",
         "3150",
         "6",
         "3152",
         "29200",
         "2081",
         "2",
         "32",
         "0.0",
         "0.0",
         "0.0",
         "0.0",
         "0.0",
         "0.0",
         "0.0",
         "0.0",
         "BENIGN"
        ]
       ],
       "shape": {
        "columns": 85,
        "rows": 5
       }
      },
      "text/html": [
       "<div>\n",
       "<style scoped>\n",
       "    .dataframe tbody tr th:only-of-type {\n",
       "        vertical-align: middle;\n",
       "    }\n",
       "\n",
       "    .dataframe tbody tr th {\n",
       "        vertical-align: top;\n",
       "    }\n",
       "\n",
       "    .dataframe thead th {\n",
       "        text-align: right;\n",
       "    }\n",
       "</style>\n",
       "<table border=\"1\" class=\"dataframe\">\n",
       "  <thead>\n",
       "    <tr style=\"text-align: right;\">\n",
       "      <th></th>\n",
       "      <th>Flow ID</th>\n",
       "      <th>Source IP</th>\n",
       "      <th>Source Port</th>\n",
       "      <th>Destination IP</th>\n",
       "      <th>Destination Port</th>\n",
       "      <th>Protocol</th>\n",
       "      <th>Timestamp</th>\n",
       "      <th>Flow Duration</th>\n",
       "      <th>Total Fwd Packets</th>\n",
       "      <th>Total Backward Packets</th>\n",
       "      <th>...</th>\n",
       "      <th>min_seg_size_forward</th>\n",
       "      <th>Active Mean</th>\n",
       "      <th>Active Std</th>\n",
       "      <th>Active Max</th>\n",
       "      <th>Active Min</th>\n",
       "      <th>Idle Mean</th>\n",
       "      <th>Idle Std</th>\n",
       "      <th>Idle Max</th>\n",
       "      <th>Idle Min</th>\n",
       "      <th>Label</th>\n",
       "    </tr>\n",
       "  </thead>\n",
       "  <tbody>\n",
       "    <tr>\n",
       "      <th>0</th>\n",
       "      <td>192.168.10.14-209.48.71.168-49459-80-6</td>\n",
       "      <td>192.168.10.14</td>\n",
       "      <td>49459</td>\n",
       "      <td>209.48.71.168</td>\n",
       "      <td>80</td>\n",
       "      <td>6</td>\n",
       "      <td>5/7/2017 8:42</td>\n",
       "      <td>38308</td>\n",
       "      <td>1</td>\n",
       "      <td>1</td>\n",
       "      <td>...</td>\n",
       "      <td>20</td>\n",
       "      <td>0.0</td>\n",
       "      <td>0.0</td>\n",
       "      <td>0.0</td>\n",
       "      <td>0.0</td>\n",
       "      <td>0.0</td>\n",
       "      <td>0.0</td>\n",
       "      <td>0.0</td>\n",
       "      <td>0.0</td>\n",
       "      <td>BENIGN</td>\n",
       "    </tr>\n",
       "    <tr>\n",
       "      <th>1</th>\n",
       "      <td>192.168.10.3-192.168.10.17-389-49453-6</td>\n",
       "      <td>192.168.10.17</td>\n",
       "      <td>49453</td>\n",
       "      <td>192.168.10.3</td>\n",
       "      <td>389</td>\n",
       "      <td>6</td>\n",
       "      <td>5/7/2017 8:42</td>\n",
       "      <td>479</td>\n",
       "      <td>11</td>\n",
       "      <td>5</td>\n",
       "      <td>...</td>\n",
       "      <td>32</td>\n",
       "      <td>0.0</td>\n",
       "      <td>0.0</td>\n",
       "      <td>0.0</td>\n",
       "      <td>0.0</td>\n",
       "      <td>0.0</td>\n",
       "      <td>0.0</td>\n",
       "      <td>0.0</td>\n",
       "      <td>0.0</td>\n",
       "      <td>BENIGN</td>\n",
       "    </tr>\n",
       "    <tr>\n",
       "      <th>2</th>\n",
       "      <td>192.168.10.3-192.168.10.17-88-46124-6</td>\n",
       "      <td>192.168.10.17</td>\n",
       "      <td>46124</td>\n",
       "      <td>192.168.10.3</td>\n",
       "      <td>88</td>\n",
       "      <td>6</td>\n",
       "      <td>5/7/2017 8:42</td>\n",
       "      <td>1095</td>\n",
       "      <td>10</td>\n",
       "      <td>6</td>\n",
       "      <td>...</td>\n",
       "      <td>32</td>\n",
       "      <td>0.0</td>\n",
       "      <td>0.0</td>\n",
       "      <td>0.0</td>\n",
       "      <td>0.0</td>\n",
       "      <td>0.0</td>\n",
       "      <td>0.0</td>\n",
       "      <td>0.0</td>\n",
       "      <td>0.0</td>\n",
       "      <td>BENIGN</td>\n",
       "    </tr>\n",
       "    <tr>\n",
       "      <th>3</th>\n",
       "      <td>192.168.10.3-192.168.10.17-389-49454-6</td>\n",
       "      <td>192.168.10.17</td>\n",
       "      <td>49454</td>\n",
       "      <td>192.168.10.3</td>\n",
       "      <td>389</td>\n",
       "      <td>6</td>\n",
       "      <td>5/7/2017 8:42</td>\n",
       "      <td>15206</td>\n",
       "      <td>17</td>\n",
       "      <td>12</td>\n",
       "      <td>...</td>\n",
       "      <td>32</td>\n",
       "      <td>0.0</td>\n",
       "      <td>0.0</td>\n",
       "      <td>0.0</td>\n",
       "      <td>0.0</td>\n",
       "      <td>0.0</td>\n",
       "      <td>0.0</td>\n",
       "      <td>0.0</td>\n",
       "      <td>0.0</td>\n",
       "      <td>BENIGN</td>\n",
       "    </tr>\n",
       "    <tr>\n",
       "      <th>4</th>\n",
       "      <td>192.168.10.3-192.168.10.17-88-46126-6</td>\n",
       "      <td>192.168.10.17</td>\n",
       "      <td>46126</td>\n",
       "      <td>192.168.10.3</td>\n",
       "      <td>88</td>\n",
       "      <td>6</td>\n",
       "      <td>5/7/2017 8:42</td>\n",
       "      <td>1092</td>\n",
       "      <td>9</td>\n",
       "      <td>6</td>\n",
       "      <td>...</td>\n",
       "      <td>32</td>\n",
       "      <td>0.0</td>\n",
       "      <td>0.0</td>\n",
       "      <td>0.0</td>\n",
       "      <td>0.0</td>\n",
       "      <td>0.0</td>\n",
       "      <td>0.0</td>\n",
       "      <td>0.0</td>\n",
       "      <td>0.0</td>\n",
       "      <td>BENIGN</td>\n",
       "    </tr>\n",
       "  </tbody>\n",
       "</table>\n",
       "<p>5 rows × 85 columns</p>\n",
       "</div>"
      ],
      "text/plain": [
       "                                  Flow ID      Source IP   Source Port  \\\n",
       "0  192.168.10.14-209.48.71.168-49459-80-6  192.168.10.14         49459   \n",
       "1  192.168.10.3-192.168.10.17-389-49453-6  192.168.10.17         49453   \n",
       "2   192.168.10.3-192.168.10.17-88-46124-6  192.168.10.17         46124   \n",
       "3  192.168.10.3-192.168.10.17-389-49454-6  192.168.10.17         49454   \n",
       "4   192.168.10.3-192.168.10.17-88-46126-6  192.168.10.17         46126   \n",
       "\n",
       "   Destination IP   Destination Port   Protocol      Timestamp  \\\n",
       "0   209.48.71.168                 80          6  5/7/2017 8:42   \n",
       "1    192.168.10.3                389          6  5/7/2017 8:42   \n",
       "2    192.168.10.3                 88          6  5/7/2017 8:42   \n",
       "3    192.168.10.3                389          6  5/7/2017 8:42   \n",
       "4    192.168.10.3                 88          6  5/7/2017 8:42   \n",
       "\n",
       "    Flow Duration   Total Fwd Packets   Total Backward Packets  ...  \\\n",
       "0           38308                   1                        1  ...   \n",
       "1             479                  11                        5  ...   \n",
       "2            1095                  10                        6  ...   \n",
       "3           15206                  17                       12  ...   \n",
       "4            1092                   9                        6  ...   \n",
       "\n",
       "    min_seg_size_forward  Active Mean   Active Std   Active Max   Active Min  \\\n",
       "0                     20          0.0          0.0          0.0          0.0   \n",
       "1                     32          0.0          0.0          0.0          0.0   \n",
       "2                     32          0.0          0.0          0.0          0.0   \n",
       "3                     32          0.0          0.0          0.0          0.0   \n",
       "4                     32          0.0          0.0          0.0          0.0   \n",
       "\n",
       "   Idle Mean   Idle Std   Idle Max   Idle Min   Label  \n",
       "0        0.0        0.0        0.0        0.0  BENIGN  \n",
       "1        0.0        0.0        0.0        0.0  BENIGN  \n",
       "2        0.0        0.0        0.0        0.0  BENIGN  \n",
       "3        0.0        0.0        0.0        0.0  BENIGN  \n",
       "4        0.0        0.0        0.0        0.0  BENIGN  \n",
       "\n",
       "[5 rows x 85 columns]"
      ]
     },
     "execution_count": 2,
     "metadata": {},
     "output_type": "execute_result"
    }
   ],
   "source": [
    "df_data = pd.read_csv('data\\Wednesday-workingHours-pcap_ISCX.csv')\n",
    "print(df_data.shape)\n",
    "df_data.head()"
   ]
  },
  {
   "cell_type": "code",
   "execution_count": 3,
   "metadata": {},
   "outputs": [
    {
     "name": "stdout",
     "output_type": "stream",
     "text": [
      "<class 'pandas.core.frame.DataFrame'>\n",
      "RangeIndex: 692703 entries, 0 to 692702\n",
      "Data columns (total 85 columns):\n",
      " #   Column                        Non-Null Count   Dtype  \n",
      "---  ------                        --------------   -----  \n",
      " 0   Flow ID                       692703 non-null  object \n",
      " 1    Source IP                    692703 non-null  object \n",
      " 2    Source Port                  692703 non-null  int64  \n",
      " 3    Destination IP               692703 non-null  object \n",
      " 4    Destination Port             692703 non-null  int64  \n",
      " 5    Protocol                     692703 non-null  int64  \n",
      " 6    Timestamp                    692703 non-null  object \n",
      " 7    Flow Duration                692703 non-null  int64  \n",
      " 8    Total Fwd Packets            692703 non-null  int64  \n",
      " 9    Total Backward Packets       692703 non-null  int64  \n",
      " 10  Total Length of Fwd Packets   692703 non-null  int64  \n",
      " 11   Total Length of Bwd Packets  692703 non-null  float64\n",
      " 12   Fwd Packet Length Max        692703 non-null  int64  \n",
      " 13   Fwd Packet Length Min        692703 non-null  int64  \n",
      " 14   Fwd Packet Length Mean       692703 non-null  float64\n",
      " 15   Fwd Packet Length Std        692703 non-null  float64\n",
      " 16  Bwd Packet Length Max         692703 non-null  int64  \n",
      " 17   Bwd Packet Length Min        692703 non-null  int64  \n",
      " 18   Bwd Packet Length Mean       692703 non-null  float64\n",
      " 19   Bwd Packet Length Std        692703 non-null  float64\n",
      " 20  Flow Bytes/s                  691695 non-null  float64\n",
      " 21   Flow Packets/s               692703 non-null  float64\n",
      " 22   Flow IAT Mean                692703 non-null  float64\n",
      " 23   Flow IAT Std                 692703 non-null  float64\n",
      " 24   Flow IAT Max                 692703 non-null  float64\n",
      " 25   Flow IAT Min                 692703 non-null  float64\n",
      " 26  Fwd IAT Total                 692703 non-null  float64\n",
      " 27   Fwd IAT Mean                 692703 non-null  float64\n",
      " 28   Fwd IAT Std                  692703 non-null  float64\n",
      " 29   Fwd IAT Max                  692703 non-null  float64\n",
      " 30   Fwd IAT Min                  692703 non-null  float64\n",
      " 31  Bwd IAT Total                 692703 non-null  float64\n",
      " 32   Bwd IAT Mean                 692703 non-null  float64\n",
      " 33   Bwd IAT Std                  692703 non-null  float64\n",
      " 34   Bwd IAT Max                  692703 non-null  float64\n",
      " 35   Bwd IAT Min                  692703 non-null  float64\n",
      " 36  Fwd PSH Flags                 692703 non-null  int64  \n",
      " 37   Bwd PSH Flags                692703 non-null  int64  \n",
      " 38   Fwd URG Flags                692703 non-null  int64  \n",
      " 39   Bwd URG Flags                692703 non-null  int64  \n",
      " 40   Fwd Header Length            692703 non-null  int64  \n",
      " 41   Bwd Header Length            692703 non-null  int64  \n",
      " 42  Fwd Packets/s                 692703 non-null  float64\n",
      " 43   Bwd Packets/s                692703 non-null  float64\n",
      " 44   Min Packet Length            692703 non-null  int64  \n",
      " 45   Max Packet Length            692703 non-null  int64  \n",
      " 46   Packet Length Mean           692703 non-null  float64\n",
      " 47   Packet Length Std            692703 non-null  float64\n",
      " 48   Packet Length Variance       692703 non-null  float64\n",
      " 49  FIN Flag Count                692703 non-null  int64  \n",
      " 50   SYN Flag Count               692703 non-null  int64  \n",
      " 51   RST Flag Count               692703 non-null  int64  \n",
      " 52   PSH Flag Count               692703 non-null  int64  \n",
      " 53   ACK Flag Count               692703 non-null  int64  \n",
      " 54   URG Flag Count               692703 non-null  int64  \n",
      " 55   CWE Flag Count               692703 non-null  int64  \n",
      " 56   ECE Flag Count               692703 non-null  int64  \n",
      " 57   Down/Up Ratio                692703 non-null  int64  \n",
      " 58   Average Packet Size          692703 non-null  float64\n",
      " 59   Avg Fwd Segment Size         692703 non-null  float64\n",
      " 60   Avg Bwd Segment Size         692703 non-null  float64\n",
      " 61   Fwd Header Length.1          692703 non-null  int64  \n",
      " 62  Fwd Avg Bytes/Bulk            692703 non-null  int64  \n",
      " 63   Fwd Avg Packets/Bulk         692703 non-null  int64  \n",
      " 64   Fwd Avg Bulk Rate            692703 non-null  int64  \n",
      " 65   Bwd Avg Bytes/Bulk           692703 non-null  int64  \n",
      " 66   Bwd Avg Packets/Bulk         692703 non-null  int64  \n",
      " 67  Bwd Avg Bulk Rate             692703 non-null  int64  \n",
      " 68  Subflow Fwd Packets           692703 non-null  int64  \n",
      " 69   Subflow Fwd Bytes            692703 non-null  int64  \n",
      " 70   Subflow Bwd Packets          692703 non-null  int64  \n",
      " 71   Subflow Bwd Bytes            692703 non-null  int64  \n",
      " 72  Init_Win_bytes_forward        692703 non-null  int64  \n",
      " 73   Init_Win_bytes_backward      692703 non-null  int64  \n",
      " 74   act_data_pkt_fwd             692703 non-null  int64  \n",
      " 75   min_seg_size_forward         692703 non-null  int64  \n",
      " 76  Active Mean                   692703 non-null  float64\n",
      " 77   Active Std                   692703 non-null  float64\n",
      " 78   Active Max                   692703 non-null  float64\n",
      " 79   Active Min                   692703 non-null  float64\n",
      " 80  Idle Mean                     692703 non-null  float64\n",
      " 81   Idle Std                     692703 non-null  float64\n",
      " 82   Idle Max                     692703 non-null  float64\n",
      " 83   Idle Min                     692703 non-null  float64\n",
      " 84  Label                         692703 non-null  object \n",
      "dtypes: float64(37), int64(43), object(5)\n",
      "memory usage: 449.2+ MB\n"
     ]
    }
   ],
   "source": [
    "df_data.info()\n"
   ]
  },
  {
   "cell_type": "code",
   "execution_count": 4,
   "metadata": {},
   "outputs": [
    {
     "name": "stderr",
     "output_type": "stream",
     "text": [
      "<>:4: SyntaxWarning: invalid escape sequence '\\W'\n",
      "<>:4: SyntaxWarning: invalid escape sequence '\\W'\n",
      "C:\\Users\\arunk\\AppData\\Local\\Temp\\ipykernel_6360\\995062789.py:4: SyntaxWarning: invalid escape sequence '\\W'\n",
      "  output_file = \"data\\Wednesday-workingHours-pcap_ISCX_processed.csv\"\n"
     ]
    },
    {
     "name": "stdout",
     "output_type": "stream",
     "text": [
      "Sampled data saved to 'data\\Wednesday-workingHours-pcap_ISCX_processed.csv'!\n"
     ]
    }
   ],
   "source": [
    "# There are 692K records, which we are goig to reduce to 100K maintining the proportion. This will allow for training without extensive compute requriement.\n",
    "# After creating a sample with 100K records, we will save sample dataframe to a csv file, that might come handy during later phases of model development\n",
    "\n",
    "output_file = \"data\\Wednesday-workingHours-pcap_ISCX_processed.csv\"  \n",
    "column_name = \"Label\"\n",
    "sample_size = 100000\n",
    "\n",
    "# Check if the column exists\n",
    "if column_name not in df_data.columns:\n",
    "    print(f\"Error: Column '{column_name}' not found in the Excel file.\")\n",
    "else:\n",
    "    # Group the data by the specified column and calculate sampling proportions\n",
    "    proportions = df_data[column_name].value_counts(normalize=True)\n",
    "    \n",
    "    # Sample records while maintaining the proportions\n",
    "    df_sample = pd.DataFrame()\n",
    "    for category, proportion in proportions.items():\n",
    "        n_samples = int(proportion * sample_size)  # Calculate number of samples for each category\n",
    "        category_sample = df_data[df_data[column_name] == category].sample(n=n_samples, random_state=42)\n",
    "        df_sample = pd.concat([df_sample, category_sample], ignore_index=True)\n",
    "    \n",
    "    # Shuffle the resulting sampled dataframe\n",
    "    df_sample = df_sample.sample(frac=1, random_state=42).reset_index(drop=True)\n",
    "\n",
    "    # Save the sampled data to a new csv data file\n",
    "    df_sample.to_csv(output_file, index=False)\n",
    "    print(f\"Sampled data saved to '{output_file}'!\") "
   ]
  },
  {
   "cell_type": "code",
   "execution_count": 5,
   "metadata": {},
   "outputs": [
    {
     "name": "stdout",
     "output_type": "stream",
     "text": [
      "['BENIGN' 'DoS Hulk' 'DoS GoldenEye' 'DoS slowloris' 'DoS Slowhttptest'\n",
      " 'Heartbleed']\n"
     ]
    }
   ],
   "source": [
    "# Identify unique values in [Label] column.\n",
    "unique_values = df_sample['Label'].unique()\n",
    "print(unique_values)\n"
   ]
  },
  {
   "cell_type": "code",
   "execution_count": 6,
   "metadata": {},
   "outputs": [
    {
     "data": {
      "image/png": "[encoded data removed]",
      "text/plain": [
       "<Figure size 800x500 with 1 Axes>"
      ]
     },
     "metadata": {},
     "output_type": "display_data"
    }
   ],
   "source": [
    "plt.figure(figsize=(8, 5))\n",
    "proportions.plot(kind='bar', color='skyblue', edgecolor='black')\n",
    "plt.title(\"Proportion of Values in Column Label\")\n",
    "plt.xlabel(\"Values\")\n",
    "plt.ylabel(\"Proportion\")\n",
    "plt.xticks(rotation=60)\n",
    "plt.grid(axis='y', linestyle='--', alpha=0.7)\n",
    "plt.show()"
   ]
  },
  {
   "cell_type": "code",
   "execution_count": 7,
   "metadata": {},
   "outputs": [
    {
     "name": "stdout",
     "output_type": "stream",
     "text": [
      "[0 1]\n"
     ]
    }
   ],
   "source": [
    "# Convert [Label] column values into integer with BENIGN being 0 and rest to 1\n",
    "\n",
    "mapping = {\n",
    "    \"BENIGN\": 0,\n",
    "    \"DoS Hulk\": 1,\n",
    "    \"DoS GoldenEye\": 1,\n",
    "    \"DoS slowloris\": 1,\n",
    "    \"DoS Slowhttptest\": 1,\n",
    "    \"Heartbleed\": 1\n",
    "}\n",
    "\n",
    "# Apply mapping to [Label] column\n",
    "df_sample['Label'] = df_sample['Label'].map(mapping)\n",
    "unique_values = df_sample['Label'].unique()\n",
    "print(unique_values)\n"
   ]
  },
  {
   "cell_type": "code",
   "execution_count": 8,
   "metadata": {},
   "outputs": [
    {
     "name": "stdout",
     "output_type": "stream",
     "text": [
      "<class 'pandas.core.frame.DataFrame'>\n",
      "Index: 99851 entries, 0 to 99995\n",
      "Data columns (total 75 columns):\n",
      " #   Column                       Non-Null Count  Dtype  \n",
      "---  ------                       --------------  -----  \n",
      " 0   Flow ID                      99851 non-null  object \n",
      " 1   Source IP                    99851 non-null  object \n",
      " 2   Source Port                  99851 non-null  int64  \n",
      " 3   Destination IP               99851 non-null  object \n",
      " 4   Destination Port             99851 non-null  int64  \n",
      " 5   Protocol                     99851 non-null  int64  \n",
      " 6   Timestamp                    99851 non-null  object \n",
      " 7   Flow Duration                99851 non-null  int64  \n",
      " 8   Total Fwd Packets            99851 non-null  int64  \n",
      " 9   Total Backward Packets       99851 non-null  int64  \n",
      " 10  Total Length of Fwd Packets  99851 non-null  int64  \n",
      " 11  Total Length of Bwd Packets  99851 non-null  float64\n",
      " 12  Fwd Packet Length Max        99851 non-null  int64  \n",
      " 13  Fwd Packet Length Min        99851 non-null  int64  \n",
      " 14  Fwd Packet Length Mean       99851 non-null  float64\n",
      " 15  Fwd Packet Length Std        99851 non-null  float64\n",
      " 16  Bwd Packet Length Max        99851 non-null  int64  \n",
      " 17  Bwd Packet Length Min        99851 non-null  int64  \n",
      " 18  Bwd Packet Length Mean       99851 non-null  float64\n",
      " 19  Bwd Packet Length Std        99851 non-null  float64\n",
      " 20  Flow Bytes/s                 99851 non-null  float64\n",
      " 21  Flow Packets/s               99851 non-null  float64\n",
      " 22  Flow IAT Mean                99851 non-null  float64\n",
      " 23  Flow IAT Std                 99851 non-null  float64\n",
      " 24  Flow IAT Max                 99851 non-null  float64\n",
      " 25  Flow IAT Min                 99851 non-null  float64\n",
      " 26  Fwd IAT Total                99851 non-null  float64\n",
      " 27  Fwd IAT Mean                 99851 non-null  float64\n",
      " 28  Fwd IAT Std                  99851 non-null  float64\n",
      " 29  Fwd IAT Max                  99851 non-null  float64\n",
      " 30  Fwd IAT Min                  99851 non-null  float64\n",
      " 31  Bwd IAT Total                99851 non-null  float64\n",
      " 32  Bwd IAT Mean                 99851 non-null  float64\n",
      " 33  Bwd IAT Std                  99851 non-null  float64\n",
      " 34  Bwd IAT Max                  99851 non-null  float64\n",
      " 35  Bwd IAT Min                  99851 non-null  float64\n",
      " 36  Fwd PSH Flags                99851 non-null  int64  \n",
      " 37  Fwd Header Length            99851 non-null  int64  \n",
      " 38  Bwd Header Length            99851 non-null  int64  \n",
      " 39  Fwd Packets/s                99851 non-null  float64\n",
      " 40  Bwd Packets/s                99851 non-null  float64\n",
      " 41  Min Packet Length            99851 non-null  int64  \n",
      " 42  Max Packet Length            99851 non-null  int64  \n",
      " 43  Packet Length Mean           99851 non-null  float64\n",
      " 44  Packet Length Std            99851 non-null  float64\n",
      " 45  Packet Length Variance       99851 non-null  float64\n",
      " 46  FIN Flag Count               99851 non-null  int64  \n",
      " 47  SYN Flag Count               99851 non-null  int64  \n",
      " 48  RST Flag Count               99851 non-null  int64  \n",
      " 49  PSH Flag Count               99851 non-null  int64  \n",
      " 50  ACK Flag Count               99851 non-null  int64  \n",
      " 51  URG Flag Count               99851 non-null  int64  \n",
      " 52  ECE Flag Count               99851 non-null  int64  \n",
      " 53  Down/Up Ratio                99851 non-null  int64  \n",
      " 54  Average Packet Size          99851 non-null  float64\n",
      " 55  Avg Fwd Segment Size         99851 non-null  float64\n",
      " 56  Avg Bwd Segment Size         99851 non-null  float64\n",
      " 57  Fwd Header Length.1          99851 non-null  int64  \n",
      " 58  Subflow Fwd Packets          99851 non-null  int64  \n",
      " 59  Subflow Fwd Bytes            99851 non-null  int64  \n",
      " 60  Subflow Bwd Packets          99851 non-null  int64  \n",
      " 61  Subflow Bwd Bytes            99851 non-null  int64  \n",
      " 62  Init_Win_bytes_forward       99851 non-null  int64  \n",
      " 63  Init_Win_bytes_backward      99851 non-null  int64  \n",
      " 64  act_data_pkt_fwd             99851 non-null  int64  \n",
      " 65  min_seg_size_forward         99851 non-null  int64  \n",
      " 66  Active Mean                  99851 non-null  float64\n",
      " 67  Active Std                   99851 non-null  float64\n",
      " 68  Active Max                   99851 non-null  float64\n",
      " 69  Active Min                   99851 non-null  float64\n",
      " 70  Idle Mean                    99851 non-null  float64\n",
      " 71  Idle Std                     99851 non-null  float64\n",
      " 72  Idle Max                     99851 non-null  float64\n",
      " 73  Idle Min                     99851 non-null  float64\n",
      " 74  Label                        99851 non-null  int64  \n",
      "dtypes: float64(37), int64(34), object(4)\n",
      "memory usage: 57.9+ MB\n"
     ]
    }
   ],
   "source": [
    "# Replace 'Infinity' and other string issues with actual np.nan\n",
    "df_sample.replace(['Infinity', 'NaN', 'nan', 'NaN ', ' NAN'], np.nan, inplace=True)\n",
    "\n",
    "# Drop columns with all NaNs or a single unique value\n",
    "df_sample.dropna(axis=1, how='all', inplace=True)\n",
    "for col in df_sample.columns:\n",
    "    if df_sample[col].nunique() <= 1:\n",
    "        df_sample.drop(columns=col, inplace=True)\n",
    "\n",
    "# Strip whitespace from all column names\n",
    "df_sample.columns = df_sample.columns.str.strip()\n",
    "\n",
    "# Drop rows with any missing values\n",
    "df_sample.dropna(inplace=True)\n",
    "\n",
    "df_sample.info()"
   ]
  },
  {
   "cell_type": "code",
   "execution_count": 9,
   "metadata": {},
   "outputs": [
    {
     "data": {
      "application/vnd.microsoft.datawrangler.viewer.v0+json": {
       "columns": [
        {
         "name": "index",
         "rawType": "int64",
         "type": "integer"
        },
        {
         "name": "Timestamp",
         "rawType": "float64",
         "type": "float"
        },
        {
         "name": "Source IP",
         "rawType": "float64",
         "type": "float"
        },
        {
         "name": "Destination IP",
         "rawType": "float64",
         "type": "float"
        }
       ],
       "conversionMethod": "pd.DataFrame",
       "ref": "25d7de7b-10af-4a62-8a77-99244e28b2fd",
       "rows": [
        [
         "0",
         "1494156840.0",
         "1921681050.0",
         "192168103.0"
        ],
        [
         "1",
         "1494125880.0",
         "192168103.0",
         "192168101.0"
        ],
        [
         "2",
         "1494155460.0",
         "528426105.0",
         "1921681012.0"
        ],
        [
         "3",
         "1494157320.0",
         "1921681016.0",
         "5233209128.0"
        ],
        [
         "4",
         "1494120720.0",
         "1921681019.0",
         "192168103.0"
        ]
       ],
       "shape": {
        "columns": 3,
        "rows": 5
       }
      },
      "text/html": [
       "<div>\n",
       "<style scoped>\n",
       "    .dataframe tbody tr th:only-of-type {\n",
       "        vertical-align: middle;\n",
       "    }\n",
       "\n",
       "    .dataframe tbody tr th {\n",
       "        vertical-align: top;\n",
       "    }\n",
       "\n",
       "    .dataframe thead th {\n",
       "        text-align: right;\n",
       "    }\n",
       "</style>\n",
       "<table border=\"1\" class=\"dataframe\">\n",
       "  <thead>\n",
       "    <tr style=\"text-align: right;\">\n",
       "      <th></th>\n",
       "      <th>Timestamp</th>\n",
       "      <th>Source IP</th>\n",
       "      <th>Destination IP</th>\n",
       "    </tr>\n",
       "  </thead>\n",
       "  <tbody>\n",
       "    <tr>\n",
       "      <th>0</th>\n",
       "      <td>1.494157e+09</td>\n",
       "      <td>1.921681e+09</td>\n",
       "      <td>1.921681e+08</td>\n",
       "    </tr>\n",
       "    <tr>\n",
       "      <th>1</th>\n",
       "      <td>1.494126e+09</td>\n",
       "      <td>1.921681e+08</td>\n",
       "      <td>1.921681e+08</td>\n",
       "    </tr>\n",
       "    <tr>\n",
       "      <th>2</th>\n",
       "      <td>1.494155e+09</td>\n",
       "      <td>5.284261e+08</td>\n",
       "      <td>1.921681e+09</td>\n",
       "    </tr>\n",
       "    <tr>\n",
       "      <th>3</th>\n",
       "      <td>1.494157e+09</td>\n",
       "      <td>1.921681e+09</td>\n",
       "      <td>5.233209e+09</td>\n",
       "    </tr>\n",
       "    <tr>\n",
       "      <th>4</th>\n",
       "      <td>1.494121e+09</td>\n",
       "      <td>1.921681e+09</td>\n",
       "      <td>1.921681e+08</td>\n",
       "    </tr>\n",
       "  </tbody>\n",
       "</table>\n",
       "</div>"
      ],
      "text/plain": [
       "      Timestamp     Source IP  Destination IP\n",
       "0  1.494157e+09  1.921681e+09    1.921681e+08\n",
       "1  1.494126e+09  1.921681e+08    1.921681e+08\n",
       "2  1.494155e+09  5.284261e+08    1.921681e+09\n",
       "3  1.494157e+09  1.921681e+09    5.233209e+09\n",
       "4  1.494121e+09  1.921681e+09    1.921681e+08"
      ]
     },
     "execution_count": 9,
     "metadata": {},
     "output_type": "execute_result"
    }
   ],
   "source": [
    "# Converting Source IP and Destination IP columns from object to float. For this we will remove the periods in IP addresses\n",
    "df_sample['Source IP'] = df_sample['Source IP'].str.replace('.', '').astype(float)\n",
    "df_sample['Destination IP'] = df_sample['Destination IP'].str.replace('.', '').astype(float)\n",
    "\n",
    "# Convert [Timestamp] column which is in Object form to float epoch time\n",
    "df_sample['Timestamp'] = pd.to_datetime(df_sample['Timestamp']).apply(lambda x: x.timestamp())\n",
    "\n",
    "df_sample[['Timestamp', 'Source IP', 'Destination IP']].head()\n"
   ]
  },
  {
   "cell_type": "code",
   "execution_count": 10,
   "metadata": {},
   "outputs": [
    {
     "name": "stdout",
     "output_type": "stream",
     "text": [
      "<class 'pandas.core.frame.DataFrame'>\n",
      "Index: 99851 entries, 0 to 99995\n",
      "Data columns (total 74 columns):\n",
      " #   Column                       Non-Null Count  Dtype  \n",
      "---  ------                       --------------  -----  \n",
      " 0   Source IP                    99851 non-null  float64\n",
      " 1   Source Port                  99851 non-null  int64  \n",
      " 2   Destination IP               99851 non-null  float64\n",
      " 3   Destination Port             99851 non-null  int64  \n",
      " 4   Protocol                     99851 non-null  int64  \n",
      " 5   Timestamp                    99851 non-null  float64\n",
      " 6   Flow Duration                99851 non-null  int64  \n",
      " 7   Total Fwd Packets            99851 non-null  int64  \n",
      " 8   Total Backward Packets       99851 non-null  int64  \n",
      " 9   Total Length of Fwd Packets  99851 non-null  int64  \n",
      " 10  Total Length of Bwd Packets  99851 non-null  float64\n",
      " 11  Fwd Packet Length Max        99851 non-null  int64  \n",
      " 12  Fwd Packet Length Min        99851 non-null  int64  \n",
      " 13  Fwd Packet Length Mean       99851 non-null  float64\n",
      " 14  Fwd Packet Length Std        99851 non-null  float64\n",
      " 15  Bwd Packet Length Max        99851 non-null  int64  \n",
      " 16  Bwd Packet Length Min        99851 non-null  int64  \n",
      " 17  Bwd Packet Length Mean       99851 non-null  float64\n",
      " 18  Bwd Packet Length Std        99851 non-null  float64\n",
      " 19  Flow Bytes/s                 99851 non-null  float64\n",
      " 20  Flow Packets/s               99851 non-null  float64\n",
      " 21  Flow IAT Mean                99851 non-null  float64\n",
      " 22  Flow IAT Std                 99851 non-null  float64\n",
      " 23  Flow IAT Max                 99851 non-null  float64\n",
      " 24  Flow IAT Min                 99851 non-null  float64\n",
      " 25  Fwd IAT Total                99851 non-null  float64\n",
      " 26  Fwd IAT Mean                 99851 non-null  float64\n",
      " 27  Fwd IAT Std                  99851 non-null  float64\n",
      " 28  Fwd IAT Max                  99851 non-null  float64\n",
      " 29  Fwd IAT Min                  99851 non-null  float64\n",
      " 30  Bwd IAT Total                99851 non-null  float64\n",
      " 31  Bwd IAT Mean                 99851 non-null  float64\n",
      " 32  Bwd IAT Std                  99851 non-null  float64\n",
      " 33  Bwd IAT Max                  99851 non-null  float64\n",
      " 34  Bwd IAT Min                  99851 non-null  float64\n",
      " 35  Fwd PSH Flags                99851 non-null  int64  \n",
      " 36  Fwd Header Length            99851 non-null  int64  \n",
      " 37  Bwd Header Length            99851 non-null  int64  \n",
      " 38  Fwd Packets/s                99851 non-null  float64\n",
      " 39  Bwd Packets/s                99851 non-null  float64\n",
      " 40  Min Packet Length            99851 non-null  int64  \n",
      " 41  Max Packet Length            99851 non-null  int64  \n",
      " 42  Packet Length Mean           99851 non-null  float64\n",
      " 43  Packet Length Std            99851 non-null  float64\n",
      " 44  Packet Length Variance       99851 non-null  float64\n",
      " 45  FIN Flag Count               99851 non-null  int64  \n",
      " 46  SYN Flag Count               99851 non-null  int64  \n",
      " 47  RST Flag Count               99851 non-null  int64  \n",
      " 48  PSH Flag Count               99851 non-null  int64  \n",
      " 49  ACK Flag Count               99851 non-null  int64  \n",
      " 50  URG Flag Count               99851 non-null  int64  \n",
      " 51  ECE Flag Count               99851 non-null  int64  \n",
      " 52  Down/Up Ratio                99851 non-null  int64  \n",
      " 53  Average Packet Size          99851 non-null  float64\n",
      " 54  Avg Fwd Segment Size         99851 non-null  float64\n",
      " 55  Avg Bwd Segment Size         99851 non-null  float64\n",
      " 56  Fwd Header Length.1          99851 non-null  int64  \n",
      " 57  Subflow Fwd Packets          99851 non-null  int64  \n",
      " 58  Subflow Fwd Bytes            99851 non-null  int64  \n",
      " 59  Subflow Bwd Packets          99851 non-null  int64  \n",
      " 60  Subflow Bwd Bytes            99851 non-null  int64  \n",
      " 61  Init_Win_bytes_forward       99851 non-null  int64  \n",
      " 62  Init_Win_bytes_backward      99851 non-null  int64  \n",
      " 63  act_data_pkt_fwd             99851 non-null  int64  \n",
      " 64  min_seg_size_forward         99851 non-null  int64  \n",
      " 65  Active Mean                  99851 non-null  float64\n",
      " 66  Active Std                   99851 non-null  float64\n",
      " 67  Active Max                   99851 non-null  float64\n",
      " 68  Active Min                   99851 non-null  float64\n",
      " 69  Idle Mean                    99851 non-null  float64\n",
      " 70  Idle Std                     99851 non-null  float64\n",
      " 71  Idle Max                     99851 non-null  float64\n",
      " 72  Idle Min                     99851 non-null  float64\n",
      " 73  Label                        99851 non-null  int64  \n",
      "dtypes: float64(40), int64(34)\n",
      "memory usage: 57.1 MB\n"
     ]
    }
   ],
   "source": [
    "# Dropping Flow ID column as it has no impact on whether the traffic is Benign or Harmful\n",
    "df_sample = df_sample.drop(columns=['Flow ID'])\n",
    "\n",
    "df_sample.info()\n"
   ]
  },
  {
   "cell_type": "code",
   "execution_count": 11,
   "metadata": {},
   "outputs": [
    {
     "name": "stdout",
     "output_type": "stream",
     "text": [
      "Summary (sorted by Range in descending order):\n",
      "                                    Min           Max         Range\n",
      "Flow Packets/s               -2000000.0           inf           inf\n",
      "Flow Bytes/s                -12000000.0           inf           inf\n",
      "Destination IP                   8064.0  2.552553e+11  2.552552e+11\n",
      "Source IP                        8601.0  2.221612e+11  2.221612e+11\n",
      "Total Length of Bwd Packets         0.0  4.540000e+08  4.540000e+08\n",
      "...                                 ...           ...           ...\n",
      "RST Flag Count                      0.0  1.000000e+00  1.000000e+00\n",
      "SYN Flag Count                      0.0  1.000000e+00  1.000000e+00\n",
      "FIN Flag Count                      0.0  1.000000e+00  1.000000e+00\n",
      "Fwd PSH Flags                       0.0  1.000000e+00  1.000000e+00\n",
      "Label                               0.0  1.000000e+00  1.000000e+00\n",
      "\n",
      "[74 rows x 3 columns]\n"
     ]
    }
   ],
   "source": [
    "\n",
    "# Calculate min, max, and range for each column\n",
    "min_values = df_sample.min()\n",
    "max_values = df_sample.max()\n",
    "range_values = max_values - min_values\n",
    "\n",
    "summary_df = pd.DataFrame({\n",
    "    'Min': min_values,\n",
    "    'Max': max_values,\n",
    "    'Range': range_values\n",
    "})\n",
    "\n",
    "sorted_summary_df = summary_df.sort_values(by='Range', ascending=False)\n",
    "\n",
    "print(\"Summary (sorted by Range in descending order):\")\n",
    "print(sorted_summary_df)"
   ]
  },
  {
   "cell_type": "code",
   "execution_count": 12,
   "metadata": {},
   "outputs": [],
   "source": [
    "# As [Flow Packets/s] and [Flow Bytes/s] have Max value of infinity and range of infinity, we will drop these columns from data set\n",
    "df_sample = df_sample.drop(columns=['Flow Packets/s', 'Flow Bytes/s'])"
   ]
  },
  {
   "cell_type": "code",
   "execution_count": 13,
   "metadata": {},
   "outputs": [
    {
     "data": {
      "image/png": "[encoded data removed]",
      "text/plain": [
       "<Figure size 1000x600 with 1 Axes>"
      ]
     },
     "metadata": {},
     "output_type": "display_data"
    }
   ],
   "source": [
    "# Creating Q-Q plot for Feature set X to determine data set distribution is Normal or not.\n",
    " \n",
    "plt.figure(figsize=(10, 6))\n",
    "for column in df_sample.columns:\n",
    "    sm.qqplot(df_sample[column], line='s', ax=plt.gca(), label=column)\n",
    "\n",
    "plt.title(\"Q-Q Plot for Feature Set\")\n",
    "plt.grid(alpha=0.7)\n",
    "plt.show()\n"
   ]
  },
  {
   "cell_type": "code",
   "execution_count": 14,
   "metadata": {},
   "outputs": [
    {
     "name": "stdout",
     "output_type": "stream",
     "text": [
      "\n",
      "Principal Components DataFrame:\n",
      "              0         1         2         3         4\n",
      "0     -0.739309 -0.287952 -0.433229  0.224853 -0.041177\n",
      "1     -0.825783 -0.407209 -0.498043  0.102386 -0.277206\n",
      "2     -0.702949  1.015347  0.156072 -0.636160  0.316439\n",
      "3     -0.508394 -0.574938  0.749371  0.102983  0.001010\n",
      "4     -0.890994 -0.240765 -0.433519 -0.205765 -0.148584\n",
      "...         ...       ...       ...       ...       ...\n",
      "99846 -0.739209 -0.635204  0.568615 -0.041203 -0.142461\n",
      "99847 -0.702203  1.023732  0.153237 -0.670732  0.341426\n",
      "99848  1.954457  0.471897 -0.032506  0.174956 -0.565860\n",
      "99849 -0.663666  0.813107  0.182610 -0.400047  0.210026\n",
      "99850 -0.775968 -0.329255 -0.462970  0.247424 -0.102223\n",
      "\n",
      "[99851 rows x 5 columns]\n",
      "\n",
      "Explained Variance Ratio:\n",
      "[0.45485186 0.1530922  0.07867782 0.07556715 0.04984632]\n",
      "DataFrame with PCA components, and Clusters:\n",
      "       PCA1      PCA2      PCA3      PCA4      PCA5  Cluster\n",
      "0 -0.739309 -0.287952 -0.433229  0.224853 -0.041177        1\n",
      "1 -0.825783 -0.407209 -0.498043  0.102386 -0.277206        1\n",
      "2 -0.702949  1.015347  0.156072 -0.636160  0.316439        1\n",
      "3 -0.508394 -0.574938  0.749371  0.102983  0.001010        1\n",
      "4 -0.890994 -0.240765 -0.433519 -0.205765 -0.148584        1\n",
      "\n",
      "Training and Test Sets Created!\n",
      "Training Set Size: 79880, Test Set Size: 19971\n"
     ]
    },
    {
     "data": {
      "image/png": "[encoded data removed]",
      "text/plain": [
       "<Figure size 800x600 with 1 Axes>"
      ]
     },
     "metadata": {},
     "output_type": "display_data"
    }
   ],
   "source": [
    "# There are 70+ features that need to be reduced. We will start with doing Principal Component Analysis(PCA) to reduce features and then cluster them into 2 clusters. \n",
    "# Creating a dataframe without the target column [Label]\n",
    "\n",
    "#features = df_sample.drop(columns=['Label'])\n",
    "#target = df_sample['Label']\n",
    "\n",
    "scaler = MinMaxScaler()\n",
    "scaled_features = scaler.fit_transform(df_sample)\n",
    "\n",
    "pca = PCA(n_components=5)  # reducing to 5 principal components\n",
    "pca_data = pca.fit_transform(scaled_features)\n",
    "\n",
    "df_pca = pd.DataFrame(pca_data)\n",
    "\n",
    "print(\"\\nPrincipal Components DataFrame:\")\n",
    "print(df_pca)\n",
    "\n",
    "explained_variance = pca.explained_variance_ratio_\n",
    "print(\"\\nExplained Variance Ratio:\")\n",
    "print(explained_variance)\n",
    "\n",
    "\n",
    "kmeans = KMeans(n_clusters=2, random_state=42) # clustering into 2\n",
    "clusters = kmeans.fit_predict(pca_data)\n",
    "\n",
    "pca_df = pd.DataFrame(pca_data, columns=['PCA1', 'PCA2', 'PCA3', 'PCA4', 'PCA5'])\n",
    "pca_df['Cluster'] = clusters\n",
    "\n",
    "print(\"DataFrame with PCA components, and Clusters:\")\n",
    "print(pca_df.head())\n",
    "\n",
    "X = pca_df.drop(columns=['Cluster'])  # Features (PCA components and cluster)\n",
    "y = pca_df['Cluster']  # Target column\n",
    "\n",
    "X_train, X_test, y_train, y_test = train_test_split(X, y, test_size=0.2, random_state=42)\n",
    "\n",
    "print(\"\\nTraining and Test Sets Created!\")\n",
    "print(f\"Training Set Size: {X_train.shape[0]}, Test Set Size: {X_test.shape[0]}\")\n",
    "\n",
    "\n",
    "plt.figure(figsize=(8, 6))\n",
    "for cluster_id in range(2):  # Number of clusters\n",
    "    clustered_points = pca_df[pca_df['Cluster'] == cluster_id]\n",
    "    plt.scatter(clustered_points['PCA1'], clustered_points['PCA2'], label=f'Cluster {cluster_id}')\n",
    "\n",
    "plt.scatter(kmeans.cluster_centers_[:, 0], kmeans.cluster_centers_[:, 1],\n",
    "            color='red', marker='X', label='Centroids')  # Centroids\n",
    "plt.title(\"K-Means Clustering on PCA Components\")\n",
    "plt.xlabel(\"Principal Component 1\")\n",
    "plt.ylabel(\"Principal Component 2\")\n",
    "plt.legend()\n",
    "plt.grid(alpha=0.7)\n",
    "plt.show()\n"
   ]
  },
  {
   "cell_type": "code",
   "execution_count": 15,
   "metadata": {},
   "outputs": [
    {
     "data": {
      "image/png": "[encoded data removed]",
      "text/plain": [
       "<Figure size 1200x800 with 2 Axes>"
      ]
     },
     "metadata": {},
     "output_type": "display_data"
    }
   ],
   "source": [
    "# Compute correlation matrix\n",
    "corr = pca_df.corr(numeric_only=True)\n",
    "\n",
    "# Plot heatmap \n",
    "plt.figure(figsize=(12,8))\n",
    "sns.heatmap(corr, annot=True, fmt=\".2f\", cmap='mako')\n",
    "plt.title(\"Correlation Heatmap of PCA and K-Means Clustered Dataset\")\n",
    "plt.show()\n"
   ]
  },
  {
   "cell_type": "code",
   "execution_count": 16,
   "metadata": {},
   "outputs": [
    {
     "name": "stdout",
     "output_type": "stream",
     "text": [
      "Logistic Regression Classification Report:\n",
      "              precision    recall  f1-score   support\n",
      "\n",
      "           0       1.00      1.00      1.00      4681\n",
      "           1       1.00      1.00      1.00     15290\n",
      "\n",
      "    accuracy                           1.00     19971\n",
      "   macro avg       1.00      1.00      1.00     19971\n",
      "weighted avg       1.00      1.00      1.00     19971\n",
      "\n"
     ]
    },
    {
     "data": {
      "image/png": "[encoded data removed]",
      "text/plain": [
       "<Figure size 640x480 with 2 Axes>"
      ]
     },
     "metadata": {},
     "output_type": "display_data"
    },
    {
     "name": "stdout",
     "output_type": "stream",
     "text": [
      "Logistic Regression ROC AUC Score: 1.0\n"
     ]
    },
    {
     "data": {
      "image/png": "[encoded data removed]",
      "text/plain": [
       "<Figure size 800x500 with 1 Axes>"
      ]
     },
     "metadata": {},
     "output_type": "display_data"
    }
   ],
   "source": [
    "# Train logistic regression\n",
    "model_lr = LogisticRegression(max_iter=1000, random_state=42)\n",
    "model_lr.fit(X_train, y_train)\n",
    "\n",
    "# Predictions\n",
    "y_pred_model_lr = model_lr.predict(X_test)\n",
    "y_proba_model_lr = model_lr.predict_proba(X_test)[:, 1]\n",
    "\n",
    "# Classification report\n",
    "print(\"Logistic Regression Classification Report:\")\n",
    "print(classification_report(y_test, y_pred_model_lr))\n",
    "\n",
    "# Confusion Matrix\n",
    "cm = confusion_matrix(y_test, y_pred_model_lr)\n",
    "sns.heatmap(cm, annot=True, fmt='d', cmap='Greens')\n",
    "plt.title(\"Logistic Regression Confusion Matrix\")\n",
    "plt.xlabel(\"Predicted\")\n",
    "plt.ylabel(\"Actual\")\n",
    "plt.show()\n",
    "\n",
    "# ROC AUC\n",
    "roc_auc_model_lr = roc_auc_score(y_test, y_proba_model_lr)\n",
    "print(\"Logistic Regression ROC AUC Score:\", round(roc_auc_model_lr, 4))\n",
    "\n",
    "# ROC Curve\n",
    "fpr_model_lr, tpr_model_lr, _ = roc_curve(y_test, y_proba_model_lr)\n",
    "plt.figure(figsize=(8, 5))\n",
    "plt.plot(fpr_model_lr, tpr_model_lr, label=f'LogReg (AUC = {roc_auc_model_lr:.2f})')\n",
    "plt.plot([0, 1], [0, 1], 'k--')\n",
    "plt.title(\"Logistic Regression ROC Curve\")\n",
    "plt.xlabel(\"False Positive Rate\")\n",
    "plt.ylabel(\"True Positive Rate\")\n",
    "plt.legend()\n",
    "plt.grid()\n",
    "plt.show()"
   ]
  }
 ],
 "metadata": {
  "kernelspec": {
   "display_name": "base",
   "language": "python",
   "name": "python3"
  },
  "language_info": {
   "codemirror_mode": {
    "name": "ipython",
    "version": 3
   },
   "file_extension": ".py",
   "mimetype": "text/x-python",
   "name": "python",
   "nbconvert_exporter": "python",
   "pygments_lexer": "ipython3",
   "version": "3.12.7"
  }
 },
 "nbformat": 4,
 "nbformat_minor": 4
}
